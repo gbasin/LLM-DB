{
 "cells": [
  {
   "attachments": {},
   "cell_type": "markdown",
   "metadata": {},
   "source": [
    "# Hello world"
   ]
  },
  {
   "cell_type": "code",
   "execution_count": null,
   "metadata": {},
   "outputs": [],
   "source": [
    "%pip install openai\n",
    "%pip install gptcache\n",
    "import openai\n",
    "import os\n",
    "\n",
    "# set your OPENAI_API_KEY as environemtn variable\n",
    "openai_key = os.getenv('OPENAI_API_KEY')\n",
    "print(\"openai_key: \" + openai_key)\n",
    "\n",
    "# gptcache setup\n",
    "from gptcache import cache\n",
    "from gptcache.adapter import openai\n",
    "from gptcache.processor.pre import all_content\n",
    "\n",
    "cache.init(pre_embedding_func=all_content) # use all prompts and full history as cache key\n",
    "cache.set_openai_key()"
   ]
  },
  {
   "cell_type": "code",
   "execution_count": null,
   "metadata": {},
   "outputs": [],
   "source": [
    "def generate_chat_completion(messages, \n",
    "                             system_message = \"You are a helpful assistant.\",\n",
    "                             examples = [], \n",
    "                             model = \"gpt-3.5-turbo\", \n",
    "                             temperature = 0,\n",
    "                             max_tokens = 256):\n",
    "    chat_messages = [\n",
    "        {\"role\": \"system\", \"content\": system_message}\n",
    "    ]\n",
    "        \n",
    "    for example in examples:\n",
    "        chat_messages.append({\"role\": \"system\", \"name\": example['name'], \"content\": example['content']})\n",
    "        \n",
    "    chat_messages.extend(messages)\n",
    "\n",
    "    response = openai.ChatCompletion.create(\n",
    "        model=model,\n",
    "        messages=chat_messages,\n",
    "        temperature=temperature,\n",
    "        max_tokens=max_tokens\n",
    "    )\n",
    "    \n",
    "    return response\n",
    "\n",
    "def run_experiment(user_msgs, \n",
    "                   system_message = \"You are a helpful assistant.\", \n",
    "                   examples = [],\n",
    "                   model = \"gpt-3.5-turbo\", \n",
    "                   temperature = 0):\n",
    "    \n",
    "    completions = []\n",
    "    messages = []\n",
    "\n",
    "    for i in range(len(user_msgs)):\n",
    "        user_message = {\"role\": \"user\", \"content\": user_msgs[i]}\n",
    "        messages.append(user_message)\n",
    "        \n",
    "        print(\"\\n\")\n",
    "        print(user_message)\n",
    "        print(\"\\n\")\n",
    "        \n",
    "        response = generate_chat_completion(messages, system_message, examples, model, temperature)\n",
    "        completions.append(response)\n",
    "        \n",
    "        response_txt = response['choices'][0]['message']['content'];\n",
    "        \n",
    "        if response.get('gptcache'):\n",
    "            print('cached: true')\n",
    "        \n",
    "        print(response_txt)\n",
    "        \n",
    "        assistant_message = {\"role\": \"assistant\", \"content\": response_txt}\n",
    "        messages.append(assistant_message)\n",
    "    \n",
    "    return messages"
   ]
  }
 ],
 "metadata": {
  "kernelspec": {
   "display_name": "Python 3",
   "language": "python",
   "name": "python3"
  },
  "language_info": {
   "codemirror_mode": {
    "name": "ipython",
    "version": 3
   },
   "file_extension": ".py",
   "mimetype": "text/x-python",
   "name": "python",
   "nbconvert_exporter": "python",
   "pygments_lexer": "ipython3",
   "version": "3.11.3"
  },
  "orig_nbformat": 4
 },
 "nbformat": 4,
 "nbformat_minor": 2
}
